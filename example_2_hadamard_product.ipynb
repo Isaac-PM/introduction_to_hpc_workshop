{
 "cells": [
  {
   "cell_type": "code",
   "execution_count": 1,
   "metadata": {},
   "outputs": [
    {
     "name": "stdout",
     "output_type": "stream",
     "text": [
      "Serial Time: 18.724827s\n",
      "Parallel Time: 2.031186s\n",
      "Results are the same\n"
     ]
    }
   ],
   "source": [
    "from numba import njit, prange\n",
    "import matplotlib.pyplot as plt\n",
    "import numpy as np\n",
    "import time\n",
    "\n",
    "MATRIX_SIZE = 8_000\n",
    "\n",
    "matrix_A = np.random.rand(MATRIX_SIZE, MATRIX_SIZE)\n",
    "matrix_B = np.random.rand(MATRIX_SIZE, MATRIX_SIZE)\n",
    "\n",
    "\n",
    "def hadamard_product_serial(matrix_A: np.ndarray, matrix_B: np.ndarray) -> np.ndarray:\n",
    "    n = matrix_A.shape[0]\n",
    "    result = np.zeros((n, n))\n",
    "    for i in range(n):\n",
    "        for j in range(n):\n",
    "            result[i, j] = matrix_A[i, j] * matrix_B[i, j]\n",
    "    return result\n",
    "\n",
    "\n",
    "@njit(parallel=True)\n",
    "def hadamard_product_parallel(matrix_A: np.ndarray, matrix_B: np.ndarray) -> np.ndarray:\n",
    "    n = matrix_A.shape[0]\n",
    "    result = np.zeros((n, n))\n",
    "    for i in prange(n):\n",
    "        for j in range(n):\n",
    "            result[i, j] = matrix_A[i, j] * matrix_B[i, j]\n",
    "    return result\n",
    "\n",
    "\n",
    "serial_start = time.perf_counter()\n",
    "serial_result = hadamard_product_serial(matrix_A, matrix_B)\n",
    "serial_end = time.perf_counter()\n",
    "print(f\"Serial Time: {serial_end - serial_start:.6f}s\")\n",
    "\n",
    "parallel_start = time.perf_counter()\n",
    "parallel_result = hadamard_product_parallel(matrix_A, matrix_B)\n",
    "parallel_end = time.perf_counter()\n",
    "print(f\"Parallel Time: {parallel_end - parallel_start:.6f}s\")\n",
    "\n",
    "assert np.allclose(serial_result, parallel_result), \"Results are not the same\"\n",
    "print(\"Results are the same\")"
   ]
  }
 ],
 "metadata": {
  "kernelspec": {
   "display_name": "env",
   "language": "python",
   "name": "python3"
  },
  "language_info": {
   "codemirror_mode": {
    "name": "ipython",
    "version": 3
   },
   "file_extension": ".py",
   "mimetype": "text/x-python",
   "name": "python",
   "nbconvert_exporter": "python",
   "pygments_lexer": "ipython3",
   "version": "3.12.3"
  }
 },
 "nbformat": 4,
 "nbformat_minor": 2
}
