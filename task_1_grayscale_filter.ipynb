{
 "cells": [
  {
   "cell_type": "code",
   "execution_count": 1,
   "metadata": {},
   "outputs": [
    {
     "name": "stdout",
     "output_type": "stream",
     "text": [
      "Grayscale Filter\n",
      "Image 1 (input_1.jpg) - Serial Processing Time: 75.627805s\n"
     ]
    },
    {
     "name": "stderr",
     "output_type": "stream",
     "text": [
      "/home/isaac/Documents/introduction_to_hpc_workshop/env/lib/python3.12/site-packages/numba/core/typed_passes.py:336: NumbaPerformanceWarning: \n",
      "The keyword argument 'parallel=True' was specified but no transformation for parallel execution was possible.\n",
      "\n",
      "To find out why, try turning on parallel diagnostics, see https://numba.readthedocs.io/en/stable/user/parallel.html#diagnostics for help.\n",
      "\n",
      "File \"../../../../tmp/ipykernel_31289/3780687115.py\", line 40:\n",
      "<source missing, REPL/exec in use?>\n",
      "\n",
      "  warnings.warn(errors.NumbaPerformanceWarning(msg,\n"
     ]
    },
    {
     "ename": "NotImplementedError",
     "evalue": "Implementar",
     "output_type": "error",
     "traceback": [
      "\u001b[0;31m---------------------------------------------------------------------------\u001b[0m",
      "\u001b[0;31mNotImplementedError\u001b[0m                       Traceback (most recent call last)",
      "Cell \u001b[0;32mIn[1], line 78\u001b[0m\n\u001b[1;32m     73\u001b[0m \u001b[38;5;28mprint\u001b[39m(\n\u001b[1;32m     74\u001b[0m     \u001b[38;5;124mf\u001b[39m\u001b[38;5;124m\"\u001b[39m\u001b[38;5;124mImage \u001b[39m\u001b[38;5;132;01m{\u001b[39;00midx\u001b[38;5;250m \u001b[39m\u001b[38;5;241m+\u001b[39m\u001b[38;5;250m \u001b[39m\u001b[38;5;241m1\u001b[39m\u001b[38;5;132;01m}\u001b[39;00m\u001b[38;5;124m (\u001b[39m\u001b[38;5;132;01m{\u001b[39;00mfilename\u001b[38;5;132;01m}\u001b[39;00m\u001b[38;5;124m) - Serial Processing Time: \u001b[39m\u001b[38;5;132;01m{\u001b[39;00mserial_end\u001b[38;5;250m \u001b[39m\u001b[38;5;241m-\u001b[39m\u001b[38;5;250m \u001b[39mserial_start\u001b[38;5;132;01m:\u001b[39;00m\u001b[38;5;124m.6f\u001b[39m\u001b[38;5;132;01m}\u001b[39;00m\u001b[38;5;124ms\u001b[39m\u001b[38;5;124m\"\u001b[39m\n\u001b[1;32m     75\u001b[0m )\n\u001b[1;32m     77\u001b[0m parallel_start \u001b[38;5;241m=\u001b[39m time\u001b[38;5;241m.\u001b[39mperf_counter()\n\u001b[0;32m---> 78\u001b[0m gray_parallel \u001b[38;5;241m=\u001b[39m \u001b[43mrgb_to_gray_parallel\u001b[49m\u001b[43m(\u001b[49m\u001b[43mimage\u001b[49m\u001b[43m)\u001b[49m\n\u001b[1;32m     79\u001b[0m parallel_end \u001b[38;5;241m=\u001b[39m time\u001b[38;5;241m.\u001b[39mperf_counter()\n\u001b[1;32m     80\u001b[0m \u001b[38;5;28mprint\u001b[39m(\n\u001b[1;32m     81\u001b[0m     \u001b[38;5;124mf\u001b[39m\u001b[38;5;124m\"\u001b[39m\u001b[38;5;124mImage \u001b[39m\u001b[38;5;132;01m{\u001b[39;00midx\u001b[38;5;250m \u001b[39m\u001b[38;5;241m+\u001b[39m\u001b[38;5;250m \u001b[39m\u001b[38;5;241m1\u001b[39m\u001b[38;5;132;01m}\u001b[39;00m\u001b[38;5;124m (\u001b[39m\u001b[38;5;132;01m{\u001b[39;00mfilename\u001b[38;5;132;01m}\u001b[39;00m\u001b[38;5;124m) - Parallel Processing Time: \u001b[39m\u001b[38;5;132;01m{\u001b[39;00mparallel_end\u001b[38;5;250m \u001b[39m\u001b[38;5;241m-\u001b[39m\u001b[38;5;250m \u001b[39mparallel_start\u001b[38;5;132;01m:\u001b[39;00m\u001b[38;5;124m.6f\u001b[39m\u001b[38;5;132;01m}\u001b[39;00m\u001b[38;5;124ms\u001b[39m\u001b[38;5;124m\"\u001b[39m\n\u001b[1;32m     82\u001b[0m )\n",
      "Cell \u001b[0;32mIn[1], line 42\u001b[0m, in \u001b[0;36mrgb_to_gray_parallel\u001b[0;34m()\u001b[0m\n\u001b[1;32m     40\u001b[0m \u001b[38;5;129m@njit\u001b[39m(parallel\u001b[38;5;241m=\u001b[39m\u001b[38;5;28;01mTrue\u001b[39;00m)\n\u001b[1;32m     41\u001b[0m \u001b[38;5;28;01mdef\u001b[39;00m\u001b[38;5;250m \u001b[39m\u001b[38;5;21mrgb_to_gray_parallel\u001b[39m(image: np\u001b[38;5;241m.\u001b[39mndarray) \u001b[38;5;241m-\u001b[39m\u001b[38;5;241m>\u001b[39m np\u001b[38;5;241m.\u001b[39mndarray:\n\u001b[0;32m---> 42\u001b[0m     \u001b[38;5;28;01mraise\u001b[39;00m \u001b[38;5;167;01mNotImplementedError\u001b[39;00m(\u001b[38;5;124m\"\u001b[39m\u001b[38;5;124mImplementar\u001b[39m\u001b[38;5;124m\"\u001b[39m)\n",
      "\u001b[0;31mNotImplementedError\u001b[0m: Implementar"
     ]
    }
   ],
   "source": [
    "\"\"\"\n",
    "Grayscale Filter\n",
    "----------------\n",
    "Este código demuestra el procesamiento de imágenes en paralelo aplicando la conversión a escala de grises píxel a píxel.\n",
    "Imágenes extraídas de: https://picsum.photos/\n",
    "\n",
    "> https://es.wikipedia.org/wiki/Procesamiento_digital_de_im%C3%A1genes \n",
    "\"\"\"\n",
    "\n",
    "from numba import njit, prange\n",
    "import cv2\n",
    "import matplotlib.pyplot as plt\n",
    "import numpy as np\n",
    "import os\n",
    "import time\n",
    "\n",
    "\n",
    "def load_images(directory=\"assets/\"):\n",
    "    images = []\n",
    "    filenames = sorted(\n",
    "        [f for f in os.listdir(directory) if f.endswith((\".png\", \".jpg\", \".jpeg\"))]\n",
    "    )\n",
    "    for filename in filenames:\n",
    "        image = cv2.imread(os.path.join(directory, filename))\n",
    "        if image is not None:\n",
    "            images.append(image)\n",
    "    return images, filenames\n",
    "\n",
    "\n",
    "def rgb_to_gray_serial(image: np.ndarray) -> np.ndarray:\n",
    "    height, width, _ = image.shape\n",
    "    gray_image = np.zeros((height, width), dtype=np.uint8)\n",
    "    for i in range(height):\n",
    "        for j in range(width):\n",
    "            r, g, b = image[i, j]\n",
    "            gray_image[i, j] = int(0.2989 * r + 0.5870 * g + 0.1140 * b)\n",
    "    return gray_image\n",
    "\n",
    "\n",
    "@njit(parallel=True)\n",
    "def rgb_to_gray_parallel(image: np.ndarray) -> np.ndarray:\n",
    "    raise NotImplementedError(\"Implementar\")\n",
    "\n",
    "\n",
    "def display_images(original, gray_serial, gray_parallel, filename):\n",
    "    plt.figure(figsize=(10, 4))\n",
    "    plt.subplot(1, 3, 1)\n",
    "    plt.imshow(cv2.cvtColor(original, cv2.COLOR_BGR2RGB))\n",
    "    plt.title(f\"Original ({filename})\")\n",
    "    plt.axis(\"off\")\n",
    "\n",
    "    plt.subplot(1, 3, 2)\n",
    "    plt.imshow(gray_serial, cmap=\"gray\")\n",
    "    plt.title(\"Grayscale (Serial)\")\n",
    "    plt.axis(\"off\")\n",
    "\n",
    "    plt.subplot(1, 3, 3)\n",
    "    plt.imshow(gray_parallel, cmap=\"gray\")\n",
    "    plt.title(\"Grayscale (Parallel)\")\n",
    "    plt.axis(\"off\")\n",
    "\n",
    "    plt.show()\n",
    "\n",
    "\n",
    "print(\"Grayscale Filter\")\n",
    "\n",
    "images, filenames = load_images()\n",
    "\n",
    "for idx, (image, filename) in enumerate(zip(images, filenames)):\n",
    "    serial_start = time.perf_counter()\n",
    "    gray_serial = rgb_to_gray_serial(image)\n",
    "    serial_end = time.perf_counter()\n",
    "    print(\n",
    "        f\"Image {idx + 1} ({filename}) - Serial Processing Time: {serial_end - serial_start:.6f}s\"\n",
    "    )\n",
    "\n",
    "    parallel_start = time.perf_counter()\n",
    "    gray_parallel = rgb_to_gray_parallel(image)\n",
    "    parallel_end = time.perf_counter()\n",
    "    print(\n",
    "        f\"Image {idx + 1} ({filename}) - Parallel Processing Time: {parallel_end - parallel_start:.6f}s\"\n",
    "    )\n",
    "\n",
    "    assert np.array_equal(gray_serial, gray_parallel), \"Results are not the same\"\n",
    "    print(\"Results are the same\")\n",
    "\n",
    "    display_images(image, gray_serial, gray_parallel, filename)"
   ]
  }
 ],
 "metadata": {
  "kernelspec": {
   "display_name": "env",
   "language": "python",
   "name": "python3"
  },
  "language_info": {
   "codemirror_mode": {
    "name": "ipython",
    "version": 3
   },
   "file_extension": ".py",
   "mimetype": "text/x-python",
   "name": "python",
   "nbconvert_exporter": "python",
   "pygments_lexer": "ipython3",
   "version": "3.12.3"
  }
 },
 "nbformat": 4,
 "nbformat_minor": 2
}
